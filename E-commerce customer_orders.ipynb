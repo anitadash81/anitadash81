{
 "cells": [
  {
   "cell_type": "markdown",
   "id": "b3dff9a6",
   "metadata": {},
   "source": [
    "###### Writing a python program about customer orders from an e-commerce website."
   ]
  },
  {
   "cell_type": "code",
   "execution_count": 1,
   "id": "8b7428cb",
   "metadata": {},
   "outputs": [],
   "source": [
    "# creating a dictionary customer_orders to cast it as a DataFrame \n",
    "\n",
    "customer_orders={\"OrderID\":[1,2,3,4,5,6,7,8,9,10] ,\"Product\":[\"Widget A\",\"Widget B\",\"Widget A\",\"Widget C\",\"Widget B\",\"Widget B\",\"Widget B\",\"Widget B\",\"Widget B\",\"Widget B\"] ,\n",
    "                 \"Quantity\":[10,5,8,3,7,12,0,34,23,56] ,\"Price\":[5.99,7.49,5.99,12.99,7.49,200,34,11,10.9,4.9]}"
   ]
  },
  {
   "cell_type": "code",
   "execution_count": 2,
   "id": "147de134",
   "metadata": {},
   "outputs": [],
   "source": [
    "# Importing all the python libraries to do the required Data Analysis\n",
    "\n",
    "\n",
    "import pandas as pd  # for import, export and manipulation\n",
    "import numpy as np    # for scitific calculations\n",
    "import matplotlib.pyplot as plt  #for visualisation\n",
    "import seaborn as sns            # for multidimentional visualization\n",
    "\n"
   ]
  },
  {
   "cell_type": "code",
   "execution_count": 3,
   "id": "21b4928f",
   "metadata": {},
   "outputs": [],
   "source": [
    "df=pd.DataFrame(customer_orders) # converting the Dictionary to a DataFrame"
   ]
  },
  {
   "cell_type": "code",
   "execution_count": 4,
   "id": "d63915b0",
   "metadata": {},
   "outputs": [],
   "source": [
    "df.to_csv(\"customer_orders.csv\") #saving the Data in a csv file as \"customer_orders.csv\""
   ]
  },
  {
   "cell_type": "code",
   "execution_count": 5,
   "id": "33b4d4ff",
   "metadata": {},
   "outputs": [],
   "source": [
    "df1=pd.read_csv(\"customer_orders.csv\") #loading and reading the csv file"
   ]
  },
  {
   "cell_type": "code",
   "execution_count": 6,
   "id": "e092ce99",
   "metadata": {},
   "outputs": [
    {
     "data": {
      "text/html": [
       "<div>\n",
       "<style scoped>\n",
       "    .dataframe tbody tr th:only-of-type {\n",
       "        vertical-align: middle;\n",
       "    }\n",
       "\n",
       "    .dataframe tbody tr th {\n",
       "        vertical-align: top;\n",
       "    }\n",
       "\n",
       "    .dataframe thead th {\n",
       "        text-align: right;\n",
       "    }\n",
       "</style>\n",
       "<table border=\"1\" class=\"dataframe\">\n",
       "  <thead>\n",
       "    <tr style=\"text-align: right;\">\n",
       "      <th></th>\n",
       "      <th>Unnamed: 0</th>\n",
       "      <th>OrderID</th>\n",
       "      <th>Product</th>\n",
       "      <th>Quantity</th>\n",
       "      <th>Price</th>\n",
       "    </tr>\n",
       "  </thead>\n",
       "  <tbody>\n",
       "    <tr>\n",
       "      <th>0</th>\n",
       "      <td>0</td>\n",
       "      <td>1</td>\n",
       "      <td>Widget A</td>\n",
       "      <td>10</td>\n",
       "      <td>5.99</td>\n",
       "    </tr>\n",
       "    <tr>\n",
       "      <th>1</th>\n",
       "      <td>1</td>\n",
       "      <td>2</td>\n",
       "      <td>Widget B</td>\n",
       "      <td>5</td>\n",
       "      <td>7.49</td>\n",
       "    </tr>\n",
       "    <tr>\n",
       "      <th>2</th>\n",
       "      <td>2</td>\n",
       "      <td>3</td>\n",
       "      <td>Widget A</td>\n",
       "      <td>8</td>\n",
       "      <td>5.99</td>\n",
       "    </tr>\n",
       "    <tr>\n",
       "      <th>3</th>\n",
       "      <td>3</td>\n",
       "      <td>4</td>\n",
       "      <td>Widget C</td>\n",
       "      <td>3</td>\n",
       "      <td>12.99</td>\n",
       "    </tr>\n",
       "    <tr>\n",
       "      <th>4</th>\n",
       "      <td>4</td>\n",
       "      <td>5</td>\n",
       "      <td>Widget B</td>\n",
       "      <td>7</td>\n",
       "      <td>7.49</td>\n",
       "    </tr>\n",
       "    <tr>\n",
       "      <th>5</th>\n",
       "      <td>5</td>\n",
       "      <td>6</td>\n",
       "      <td>Widget B</td>\n",
       "      <td>12</td>\n",
       "      <td>200.00</td>\n",
       "    </tr>\n",
       "    <tr>\n",
       "      <th>6</th>\n",
       "      <td>6</td>\n",
       "      <td>7</td>\n",
       "      <td>Widget B</td>\n",
       "      <td>0</td>\n",
       "      <td>34.00</td>\n",
       "    </tr>\n",
       "    <tr>\n",
       "      <th>7</th>\n",
       "      <td>7</td>\n",
       "      <td>8</td>\n",
       "      <td>Widget B</td>\n",
       "      <td>34</td>\n",
       "      <td>11.00</td>\n",
       "    </tr>\n",
       "    <tr>\n",
       "      <th>8</th>\n",
       "      <td>8</td>\n",
       "      <td>9</td>\n",
       "      <td>Widget B</td>\n",
       "      <td>23</td>\n",
       "      <td>10.90</td>\n",
       "    </tr>\n",
       "    <tr>\n",
       "      <th>9</th>\n",
       "      <td>9</td>\n",
       "      <td>10</td>\n",
       "      <td>Widget B</td>\n",
       "      <td>56</td>\n",
       "      <td>4.90</td>\n",
       "    </tr>\n",
       "  </tbody>\n",
       "</table>\n",
       "</div>"
      ],
      "text/plain": [
       "   Unnamed: 0  OrderID   Product  Quantity   Price\n",
       "0           0        1  Widget A        10    5.99\n",
       "1           1        2  Widget B         5    7.49\n",
       "2           2        3  Widget A         8    5.99\n",
       "3           3        4  Widget C         3   12.99\n",
       "4           4        5  Widget B         7    7.49\n",
       "5           5        6  Widget B        12  200.00\n",
       "6           6        7  Widget B         0   34.00\n",
       "7           7        8  Widget B        34   11.00\n",
       "8           8        9  Widget B        23   10.90\n",
       "9           9       10  Widget B        56    4.90"
      ]
     },
     "execution_count": 6,
     "metadata": {},
     "output_type": "execute_result"
    }
   ],
   "source": [
    "df1"
   ]
  },
  {
   "cell_type": "code",
   "execution_count": 7,
   "id": "6ed56633",
   "metadata": {},
   "outputs": [
    {
     "data": {
      "text/html": [
       "<div>\n",
       "<style scoped>\n",
       "    .dataframe tbody tr th:only-of-type {\n",
       "        vertical-align: middle;\n",
       "    }\n",
       "\n",
       "    .dataframe tbody tr th {\n",
       "        vertical-align: top;\n",
       "    }\n",
       "\n",
       "    .dataframe thead th {\n",
       "        text-align: right;\n",
       "    }\n",
       "</style>\n",
       "<table border=\"1\" class=\"dataframe\">\n",
       "  <thead>\n",
       "    <tr style=\"text-align: right;\">\n",
       "      <th></th>\n",
       "      <th>Unnamed: 0</th>\n",
       "      <th>OrderID</th>\n",
       "      <th>Product</th>\n",
       "      <th>Quantity</th>\n",
       "      <th>Price</th>\n",
       "    </tr>\n",
       "  </thead>\n",
       "  <tbody>\n",
       "    <tr>\n",
       "      <th>0</th>\n",
       "      <td>0</td>\n",
       "      <td>1</td>\n",
       "      <td>Widget A</td>\n",
       "      <td>10</td>\n",
       "      <td>5.99</td>\n",
       "    </tr>\n",
       "    <tr>\n",
       "      <th>1</th>\n",
       "      <td>1</td>\n",
       "      <td>2</td>\n",
       "      <td>Widget B</td>\n",
       "      <td>5</td>\n",
       "      <td>7.49</td>\n",
       "    </tr>\n",
       "    <tr>\n",
       "      <th>2</th>\n",
       "      <td>2</td>\n",
       "      <td>3</td>\n",
       "      <td>Widget A</td>\n",
       "      <td>8</td>\n",
       "      <td>5.99</td>\n",
       "    </tr>\n",
       "    <tr>\n",
       "      <th>3</th>\n",
       "      <td>3</td>\n",
       "      <td>4</td>\n",
       "      <td>Widget C</td>\n",
       "      <td>3</td>\n",
       "      <td>12.99</td>\n",
       "    </tr>\n",
       "    <tr>\n",
       "      <th>4</th>\n",
       "      <td>4</td>\n",
       "      <td>5</td>\n",
       "      <td>Widget B</td>\n",
       "      <td>7</td>\n",
       "      <td>7.49</td>\n",
       "    </tr>\n",
       "  </tbody>\n",
       "</table>\n",
       "</div>"
      ],
      "text/plain": [
       "   Unnamed: 0  OrderID   Product  Quantity  Price\n",
       "0           0        1  Widget A        10   5.99\n",
       "1           1        2  Widget B         5   7.49\n",
       "2           2        3  Widget A         8   5.99\n",
       "3           3        4  Widget C         3  12.99\n",
       "4           4        5  Widget B         7   7.49"
      ]
     },
     "execution_count": 7,
     "metadata": {},
     "output_type": "execute_result"
    }
   ],
   "source": [
    "#collecting the first 5 rows\n",
    "\n",
    "df1.head()  "
   ]
  },
  {
   "cell_type": "code",
   "execution_count": 8,
   "id": "022e16e2",
   "metadata": {},
   "outputs": [
    {
     "data": {
      "text/html": [
       "<div>\n",
       "<style scoped>\n",
       "    .dataframe tbody tr th:only-of-type {\n",
       "        vertical-align: middle;\n",
       "    }\n",
       "\n",
       "    .dataframe tbody tr th {\n",
       "        vertical-align: top;\n",
       "    }\n",
       "\n",
       "    .dataframe thead th {\n",
       "        text-align: right;\n",
       "    }\n",
       "</style>\n",
       "<table border=\"1\" class=\"dataframe\">\n",
       "  <thead>\n",
       "    <tr style=\"text-align: right;\">\n",
       "      <th></th>\n",
       "      <th>Unnamed: 0</th>\n",
       "      <th>OrderID</th>\n",
       "      <th>Product</th>\n",
       "      <th>Quantity</th>\n",
       "      <th>Price</th>\n",
       "    </tr>\n",
       "  </thead>\n",
       "  <tbody>\n",
       "    <tr>\n",
       "      <th>5</th>\n",
       "      <td>5</td>\n",
       "      <td>6</td>\n",
       "      <td>Widget B</td>\n",
       "      <td>12</td>\n",
       "      <td>200.0</td>\n",
       "    </tr>\n",
       "    <tr>\n",
       "      <th>6</th>\n",
       "      <td>6</td>\n",
       "      <td>7</td>\n",
       "      <td>Widget B</td>\n",
       "      <td>0</td>\n",
       "      <td>34.0</td>\n",
       "    </tr>\n",
       "    <tr>\n",
       "      <th>7</th>\n",
       "      <td>7</td>\n",
       "      <td>8</td>\n",
       "      <td>Widget B</td>\n",
       "      <td>34</td>\n",
       "      <td>11.0</td>\n",
       "    </tr>\n",
       "    <tr>\n",
       "      <th>8</th>\n",
       "      <td>8</td>\n",
       "      <td>9</td>\n",
       "      <td>Widget B</td>\n",
       "      <td>23</td>\n",
       "      <td>10.9</td>\n",
       "    </tr>\n",
       "    <tr>\n",
       "      <th>9</th>\n",
       "      <td>9</td>\n",
       "      <td>10</td>\n",
       "      <td>Widget B</td>\n",
       "      <td>56</td>\n",
       "      <td>4.9</td>\n",
       "    </tr>\n",
       "  </tbody>\n",
       "</table>\n",
       "</div>"
      ],
      "text/plain": [
       "   Unnamed: 0  OrderID   Product  Quantity  Price\n",
       "5           5        6  Widget B        12  200.0\n",
       "6           6        7  Widget B         0   34.0\n",
       "7           7        8  Widget B        34   11.0\n",
       "8           8        9  Widget B        23   10.9\n",
       "9           9       10  Widget B        56    4.9"
      ]
     },
     "execution_count": 8,
     "metadata": {},
     "output_type": "execute_result"
    }
   ],
   "source": [
    "#collecting the last 5 rows\n",
    "df1.tail()"
   ]
  },
  {
   "cell_type": "code",
   "execution_count": 9,
   "id": "89322295",
   "metadata": {},
   "outputs": [
    {
     "data": {
      "text/plain": [
       "(10, 4)"
      ]
     },
     "execution_count": 9,
     "metadata": {},
     "output_type": "execute_result"
    }
   ],
   "source": [
    "#GETTING THE DIMENSION OF THE DF\n",
    "df.shape "
   ]
  },
  {
   "cell_type": "code",
   "execution_count": 10,
   "id": "e1ae53c3",
   "metadata": {},
   "outputs": [
    {
     "data": {
      "text/plain": [
       "Index(['Unnamed: 0', 'OrderID', 'Product', 'Quantity', 'Price'], dtype='object')"
      ]
     },
     "execution_count": 10,
     "metadata": {},
     "output_type": "execute_result"
    }
   ],
   "source": [
    "# find out all the columns \n",
    "\n",
    "df1.columns"
   ]
  },
  {
   "cell_type": "code",
   "execution_count": 11,
   "id": "873eb12e",
   "metadata": {},
   "outputs": [],
   "source": [
    "# set the index as order Id\n",
    "df1=df1.set_index(\"OrderID\")"
   ]
  },
  {
   "cell_type": "code",
   "execution_count": 12,
   "id": "2b1255a9",
   "metadata": {},
   "outputs": [
    {
     "data": {
      "text/html": [
       "<div>\n",
       "<style scoped>\n",
       "    .dataframe tbody tr th:only-of-type {\n",
       "        vertical-align: middle;\n",
       "    }\n",
       "\n",
       "    .dataframe tbody tr th {\n",
       "        vertical-align: top;\n",
       "    }\n",
       "\n",
       "    .dataframe thead th {\n",
       "        text-align: right;\n",
       "    }\n",
       "</style>\n",
       "<table border=\"1\" class=\"dataframe\">\n",
       "  <thead>\n",
       "    <tr style=\"text-align: right;\">\n",
       "      <th></th>\n",
       "      <th>Unnamed: 0</th>\n",
       "      <th>Product</th>\n",
       "      <th>Quantity</th>\n",
       "      <th>Price</th>\n",
       "    </tr>\n",
       "    <tr>\n",
       "      <th>OrderID</th>\n",
       "      <th></th>\n",
       "      <th></th>\n",
       "      <th></th>\n",
       "      <th></th>\n",
       "    </tr>\n",
       "  </thead>\n",
       "  <tbody>\n",
       "    <tr>\n",
       "      <th>1</th>\n",
       "      <td>0</td>\n",
       "      <td>Widget A</td>\n",
       "      <td>10</td>\n",
       "      <td>5.99</td>\n",
       "    </tr>\n",
       "    <tr>\n",
       "      <th>2</th>\n",
       "      <td>1</td>\n",
       "      <td>Widget B</td>\n",
       "      <td>5</td>\n",
       "      <td>7.49</td>\n",
       "    </tr>\n",
       "    <tr>\n",
       "      <th>3</th>\n",
       "      <td>2</td>\n",
       "      <td>Widget A</td>\n",
       "      <td>8</td>\n",
       "      <td>5.99</td>\n",
       "    </tr>\n",
       "    <tr>\n",
       "      <th>4</th>\n",
       "      <td>3</td>\n",
       "      <td>Widget C</td>\n",
       "      <td>3</td>\n",
       "      <td>12.99</td>\n",
       "    </tr>\n",
       "    <tr>\n",
       "      <th>5</th>\n",
       "      <td>4</td>\n",
       "      <td>Widget B</td>\n",
       "      <td>7</td>\n",
       "      <td>7.49</td>\n",
       "    </tr>\n",
       "    <tr>\n",
       "      <th>6</th>\n",
       "      <td>5</td>\n",
       "      <td>Widget B</td>\n",
       "      <td>12</td>\n",
       "      <td>200.00</td>\n",
       "    </tr>\n",
       "    <tr>\n",
       "      <th>7</th>\n",
       "      <td>6</td>\n",
       "      <td>Widget B</td>\n",
       "      <td>0</td>\n",
       "      <td>34.00</td>\n",
       "    </tr>\n",
       "    <tr>\n",
       "      <th>8</th>\n",
       "      <td>7</td>\n",
       "      <td>Widget B</td>\n",
       "      <td>34</td>\n",
       "      <td>11.00</td>\n",
       "    </tr>\n",
       "    <tr>\n",
       "      <th>9</th>\n",
       "      <td>8</td>\n",
       "      <td>Widget B</td>\n",
       "      <td>23</td>\n",
       "      <td>10.90</td>\n",
       "    </tr>\n",
       "    <tr>\n",
       "      <th>10</th>\n",
       "      <td>9</td>\n",
       "      <td>Widget B</td>\n",
       "      <td>56</td>\n",
       "      <td>4.90</td>\n",
       "    </tr>\n",
       "  </tbody>\n",
       "</table>\n",
       "</div>"
      ],
      "text/plain": [
       "         Unnamed: 0   Product  Quantity   Price\n",
       "OrderID                                        \n",
       "1                 0  Widget A        10    5.99\n",
       "2                 1  Widget B         5    7.49\n",
       "3                 2  Widget A         8    5.99\n",
       "4                 3  Widget C         3   12.99\n",
       "5                 4  Widget B         7    7.49\n",
       "6                 5  Widget B        12  200.00\n",
       "7                 6  Widget B         0   34.00\n",
       "8                 7  Widget B        34   11.00\n",
       "9                 8  Widget B        23   10.90\n",
       "10                9  Widget B        56    4.90"
      ]
     },
     "execution_count": 12,
     "metadata": {},
     "output_type": "execute_result"
    }
   ],
   "source": [
    "df1"
   ]
  },
  {
   "cell_type": "code",
   "execution_count": 13,
   "id": "fe3b149d",
   "metadata": {},
   "outputs": [
    {
     "name": "stdout",
     "output_type": "stream",
     "text": [
      "<class 'pandas.core.frame.DataFrame'>\n",
      "RangeIndex: 10 entries, 0 to 9\n",
      "Data columns (total 4 columns):\n",
      " #   Column    Non-Null Count  Dtype  \n",
      "---  ------    --------------  -----  \n",
      " 0   OrderID   10 non-null     int64  \n",
      " 1   Product   10 non-null     object \n",
      " 2   Quantity  10 non-null     int64  \n",
      " 3   Price     10 non-null     float64\n",
      "dtypes: float64(1), int64(2), object(1)\n",
      "memory usage: 448.0+ bytes\n"
     ]
    }
   ],
   "source": [
    "# This gives the information regarding the type and memory location and null values\n",
    "\n",
    "df.info()"
   ]
  },
  {
   "cell_type": "code",
   "execution_count": 14,
   "id": "0c9e23d7",
   "metadata": {},
   "outputs": [
    {
     "data": {
      "text/html": [
       "<div>\n",
       "<style scoped>\n",
       "    .dataframe tbody tr th:only-of-type {\n",
       "        vertical-align: middle;\n",
       "    }\n",
       "\n",
       "    .dataframe tbody tr th {\n",
       "        vertical-align: top;\n",
       "    }\n",
       "\n",
       "    .dataframe thead th {\n",
       "        text-align: right;\n",
       "    }\n",
       "</style>\n",
       "<table border=\"1\" class=\"dataframe\">\n",
       "  <thead>\n",
       "    <tr style=\"text-align: right;\">\n",
       "      <th></th>\n",
       "      <th>OrderID</th>\n",
       "      <th>Quantity</th>\n",
       "      <th>Price</th>\n",
       "    </tr>\n",
       "  </thead>\n",
       "  <tbody>\n",
       "    <tr>\n",
       "      <th>count</th>\n",
       "      <td>10.00000</td>\n",
       "      <td>10.000000</td>\n",
       "      <td>10.000000</td>\n",
       "    </tr>\n",
       "    <tr>\n",
       "      <th>mean</th>\n",
       "      <td>5.50000</td>\n",
       "      <td>15.800000</td>\n",
       "      <td>30.075000</td>\n",
       "    </tr>\n",
       "    <tr>\n",
       "      <th>std</th>\n",
       "      <td>3.02765</td>\n",
       "      <td>17.370473</td>\n",
       "      <td>60.302445</td>\n",
       "    </tr>\n",
       "    <tr>\n",
       "      <th>min</th>\n",
       "      <td>1.00000</td>\n",
       "      <td>0.000000</td>\n",
       "      <td>4.900000</td>\n",
       "    </tr>\n",
       "    <tr>\n",
       "      <th>25%</th>\n",
       "      <td>3.25000</td>\n",
       "      <td>5.500000</td>\n",
       "      <td>6.365000</td>\n",
       "    </tr>\n",
       "    <tr>\n",
       "      <th>50%</th>\n",
       "      <td>5.50000</td>\n",
       "      <td>9.000000</td>\n",
       "      <td>9.195000</td>\n",
       "    </tr>\n",
       "    <tr>\n",
       "      <th>75%</th>\n",
       "      <td>7.75000</td>\n",
       "      <td>20.250000</td>\n",
       "      <td>12.492500</td>\n",
       "    </tr>\n",
       "    <tr>\n",
       "      <th>max</th>\n",
       "      <td>10.00000</td>\n",
       "      <td>56.000000</td>\n",
       "      <td>200.000000</td>\n",
       "    </tr>\n",
       "  </tbody>\n",
       "</table>\n",
       "</div>"
      ],
      "text/plain": [
       "        OrderID   Quantity       Price\n",
       "count  10.00000  10.000000   10.000000\n",
       "mean    5.50000  15.800000   30.075000\n",
       "std     3.02765  17.370473   60.302445\n",
       "min     1.00000   0.000000    4.900000\n",
       "25%     3.25000   5.500000    6.365000\n",
       "50%     5.50000   9.000000    9.195000\n",
       "75%     7.75000  20.250000   12.492500\n",
       "max    10.00000  56.000000  200.000000"
      ]
     },
     "execution_count": 14,
     "metadata": {},
     "output_type": "execute_result"
    }
   ],
   "source": [
    "# getting the Statistical information from the Data\n",
    "df.describe()"
   ]
  },
  {
   "cell_type": "markdown",
   "id": "6ed930f9",
   "metadata": {},
   "source": [
    "From the  above Maximum and minimum values, it is clear that there is a great deviation in the price values."
   ]
  },
  {
   "cell_type": "markdown",
   "id": "a5c6f51a",
   "metadata": {},
   "source": [
    "###### Data Cleaning"
   ]
  },
  {
   "cell_type": "code",
   "execution_count": 15,
   "id": "38cb7ffe",
   "metadata": {},
   "outputs": [
    {
     "data": {
      "text/plain": [
       "OrderID     0\n",
       "Product     0\n",
       "Quantity    0\n",
       "Price       0\n",
       "dtype: int64"
      ]
     },
     "execution_count": 15,
     "metadata": {},
     "output_type": "execute_result"
    }
   ],
   "source": [
    "# finding the number of null vvalue present in each column\n",
    "df.isna().sum()"
   ]
  },
  {
   "cell_type": "markdown",
   "id": "105e610d",
   "metadata": {},
   "source": [
    "So it is clear that there is no null value in the given Data and the data type is integer."
   ]
  },
  {
   "cell_type": "code",
   "execution_count": 16,
   "id": "d2d161b2",
   "metadata": {},
   "outputs": [
    {
     "data": {
      "text/plain": [
       "array(['Widget A', 'Widget B', 'Widget C'], dtype=object)"
      ]
     },
     "execution_count": 16,
     "metadata": {},
     "output_type": "execute_result"
    }
   ],
   "source": [
    "df[\"Product\"].unique()"
   ]
  },
  {
   "cell_type": "markdown",
   "id": "54757411",
   "metadata": {},
   "source": [
    "It shows that,there are only three types of products are present in the e-commerce website."
   ]
  },
  {
   "cell_type": "markdown",
   "id": "1235ea5a",
   "metadata": {},
   "source": [
    "Now let us find out how many products from Widget A are present."
   ]
  },
  {
   "cell_type": "code",
   "execution_count": 17,
   "id": "fd343133",
   "metadata": {},
   "outputs": [
    {
     "name": "stdout",
     "output_type": "stream",
     "text": [
      "Object `price` not found.\n"
     ]
    }
   ],
   "source": [
    "Which product has maximum price?\n"
   ]
  },
  {
   "cell_type": "code",
   "execution_count": null,
   "id": "c0eb6eda",
   "metadata": {},
   "outputs": [],
   "source": [
    "Which product has maximum price?"
   ]
  },
  {
   "cell_type": "code",
   "execution_count": null,
   "id": "d721e21c",
   "metadata": {},
   "outputs": [],
   "source": []
  }
 ],
 "metadata": {
  "kernelspec": {
   "display_name": "Python 3",
   "language": "python",
   "name": "python3"
  },
  "language_info": {
   "codemirror_mode": {
    "name": "ipython",
    "version": 3
   },
   "file_extension": ".py",
   "mimetype": "text/x-python",
   "name": "python",
   "nbconvert_exporter": "python",
   "pygments_lexer": "ipython3",
   "version": "3.8.8"
  }
 },
 "nbformat": 4,
 "nbformat_minor": 5
}
